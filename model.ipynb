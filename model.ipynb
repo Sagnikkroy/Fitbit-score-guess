{
 "cells": [
  {
   "cell_type": "code",
   "execution_count": 1,
   "id": "c933d64e",
   "metadata": {},
   "outputs": [],
   "source": [
    "import torch\n",
    "import torch.nn as nn\n",
    "import torch.optim\n",
    "import pandas as pd"
   ]
  },
  {
   "cell_type": "code",
   "execution_count": 6,
   "id": "5508b033",
   "metadata": {},
   "outputs": [],
   "source": [
    "model = nn.Sequential(\n",
    "    nn.Linear(3,10),\n",
    "    nn.ReLU(),\n",
    "    nn.Linear(10,1)\n",
    ")"
   ]
  },
  {
   "cell_type": "code",
   "execution_count": 8,
   "id": "1fb3fc77",
   "metadata": {},
   "outputs": [],
   "source": [
    "df=pd.read_csv('sleep_score_data_fitbit.csv')\n",
    "features=df[['deep_sleep_in_minutes','resting_heart_rate','restlessness']]\n",
    "target=df[['overall_score']]"
   ]
  },
  {
   "cell_type": "code",
   "execution_count": 9,
   "id": "5e7b5401",
   "metadata": {},
   "outputs": [],
   "source": [
    "X=torch.FloatTensor(features.values)\n",
    "y=torch.FloatTensor(target.values)"
   ]
  },
  {
   "cell_type": "code",
   "execution_count": null,
   "id": "da07426d",
   "metadata": {},
   "outputs": [],
   "source": [
    "total_samples=len(df)\n",
    "train_size=int(0.8*total_samples)\n",
    "indices=torch.randperm(total_samples)"
   ]
  },
  {
   "cell_type": "code",
   "execution_count": 12,
   "id": "535bcd87",
   "metadata": {},
   "outputs": [],
   "source": [
    "x_train=X[indices][:train_size]\n",
    "x_test=X[indices][train_size:]\n",
    "y_train=y[indices][:train_size]\n",
    "y_test=y[indices][train_size:]"
   ]
  },
  {
   "cell_type": "code",
   "execution_count": 21,
   "id": "ddecca62",
   "metadata": {},
   "outputs": [],
   "source": [
    "loss_function=nn.MSELoss()\n",
    "optimizer=torch.optim.Adam(model.parameters(),lr=0.01)"
   ]
  },
  {
   "cell_type": "code",
   "execution_count": 22,
   "id": "c7dafab7",
   "metadata": {},
   "outputs": [
    {
     "name": "stderr",
     "output_type": "stream",
     "text": [
      "c:\\Users\\sanhi\\AppData\\Local\\Programs\\Python\\Python310\\lib\\site-packages\\torch\\nn\\modules\\loss.py:610: UserWarning: Using a target size (torch.Size([232, 1])) that is different to the input size (torch.Size([232])). This will likely lead to incorrect results due to broadcasting. Please ensure they have the same size.\n",
      "  return F.mse_loss(input, target, reduction=self.reduction)\n"
     ]
    }
   ],
   "source": [
    "for epoch in range(1000):\n",
    "    forwardpass=model(x_train).squeeze()\n",
    "    loss=loss_function(forwardpass,y_train)\n",
    "    optimizer.zero_grad()\n",
    "    loss.backward()\n",
    "    optimizer.step()\n",
    "\n",
    "if epoch % 100 == 0:\n",
    "    print(f'Epoch {epoch}, Loss: {loss.item()}')\n"
   ]
  },
  {
   "cell_type": "code",
   "execution_count": null,
   "id": "4869798d",
   "metadata": {},
   "outputs": [],
   "source": [
    "model.eval()\n",
    "with torch.no_grad()\n",
    "test_pred=model(x_test).squeeze()"
   ]
  }
 ],
 "metadata": {
  "kernelspec": {
   "display_name": "Python 3",
   "language": "python",
   "name": "python3"
  },
  "language_info": {
   "codemirror_mode": {
    "name": "ipython",
    "version": 3
   },
   "file_extension": ".py",
   "mimetype": "text/x-python",
   "name": "python",
   "nbconvert_exporter": "python",
   "pygments_lexer": "ipython3",
   "version": "3.10.0"
  }
 },
 "nbformat": 4,
 "nbformat_minor": 5
}
